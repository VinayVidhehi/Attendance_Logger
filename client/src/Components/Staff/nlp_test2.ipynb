{
 "cells": [
  {
   "cell_type": "code",
   "execution_count": 9,
   "metadata": {},
   "outputs": [
    {
     "name": "stderr",
     "output_type": "stream",
     "text": [
      "/tmp/ipykernel_34484/2713575892.py:34: DeprecationWarning: \n",
      "  Function evaluate() has been deprecated.  Use accuracy(gold)\n",
      "  instead.\n",
      "  print(tagger.evaluate(test_sents))\n"
     ]
    },
    {
     "name": "stdout",
     "output_type": "stream",
     "text": [
      "0.27714418173388966\n"
     ]
    }
   ],
   "source": [
    "import nltk\n",
    "from nltk.corpus import brown\n",
    "from nltk import pos_tag\n",
    "def pos_features(sentence, i, history): \n",
    "    features = {\"suffix(1)\": sentence[i][-1:],\"suffix(2)\": sentence[i][-2:],\"suffix(3)\": sentence[i][-3:]}\n",
    "    if i == 0:\n",
    "        features[\"prev-word\"] = \"<START>\"\n",
    "        features[\"prev-tag\"] = \"<START>\"\n",
    "    else:\n",
    "        features[\"prev-word\"] = sentence[i-1]\n",
    "        features[\"prev-tag\"] = history[i-1]\n",
    "    return features \n",
    "class ConsecutivePosTagger(nltk.TaggerI): \n",
    "    def __init__(self, train_sents):\n",
    "        train_set = []\n",
    "        for tagged_sent in train_sents:untagged_sent = nltk.tag.untag(tagged_sent)\n",
    "        history = []\n",
    "        for i, (word, tag) in enumerate(tagged_sent):\n",
    "            featureset = pos_features(untagged_sent, i, history)\n",
    "            train_set.append( (featureset, tag) )\n",
    "            history.append(tag)\n",
    "            self.classifier = nltk.NaiveBayesClassifier.train(train_set)\n",
    "    def tag(self, sentence):\n",
    "        history = []\n",
    "        for i, word in enumerate(sentence):\n",
    "            featureset = pos_features(sentence, i, history) \n",
    "            tag = self.classifier.classify(featureset)\n",
    "            history.append(tag)\n",
    "        return zip(sentence, history) \n",
    "tagged_sents = brown.tagged_sents(categories='news')\n",
    "size = int(len(tagged_sents) * 0.1)\n",
    "train_sents, test_sents = tagged_sents[size:], tagged_sents[:size] \n",
    "tagger = ConsecutivePosTagger(train_sents) \n",
    "print(tagger.evaluate(test_sents))"
   ]
  },
  {
   "cell_type": "code",
   "execution_count": 2,
   "metadata": {},
   "outputs": [],
   "source": [
    "import nltk\n",
    "def punct_features(tokens, i):\n",
    "     return {'next-word-capitalized': tokens[i+1][0].isupper(), ...             'prevword': tokens[i-1].lower(), ...             'punct': tokens[i], ...             'prev-word-is-one-char': len(tokens[i-1]) == 1} "
   ]
  },
  {
   "cell_type": "code",
   "execution_count": 10,
   "metadata": {},
   "outputs": [
    {
     "name": "stdout",
     "output_type": "stream",
     "text": [
      "CFG for sentence: The cat sat on the mat.\n",
      "Grammar with 8 productions (start state = S)\n",
      "    S -> DT\n",
      "    DT -> 'The'\n",
      "    NN -> 'cat'\n",
      "    VBD -> 'sat'\n",
      "    IN -> 'on'\n",
      "    DT -> 'the'\n",
      "    NN -> 'mat'\n",
      "    . -> '.'\n",
      "\n",
      "CFG for sentence: Birds sing melodiously in the morning.\n",
      "Grammar with 8 productions (start state = S)\n",
      "    S -> NNS\n",
      "    NNS -> 'Birds'\n",
      "    VBG -> 'sing'\n",
      "    RB -> 'melodiously'\n",
      "    IN -> 'in'\n",
      "    DT -> 'the'\n",
      "    NN -> 'morning'\n",
      "    . -> '.'\n",
      "\n",
      "CFG for sentence: Children play happily in the park.\n",
      "Grammar with 8 productions (start state = S)\n",
      "    S -> NNP\n",
      "    NNP -> 'Children'\n",
      "    VBP -> 'play'\n",
      "    RB -> 'happily'\n",
      "    IN -> 'in'\n",
      "    DT -> 'the'\n",
      "    NN -> 'park'\n",
      "    . -> '.'\n",
      "\n"
     ]
    }
   ],
   "source": [
    "import nltk\n",
    "from nltk.grammar import CFG, Production\n",
    "from nltk import word_tokenize, pos_tag\n",
    "def generate_cfg(sentence):\n",
    "    # Tokenize the sentence and perform part-of-speech tagging\n",
    "    tokens = word_tokenize(sentence)\n",
    "    tagged_tokens = nltk.pos_tag(tokens)  # Fix: Use nltk.pos_tag instead of pos_tag\n",
    "\n",
    "    # Initialize lists to store grammar productions\n",
    "    productions = []\n",
    "\n",
    "    # Add productions for each tagged token\n",
    "    for i in range(len(tagged_tokens)):\n",
    "        token, pos_tag = tagged_tokens[i]\n",
    "        # For the first token, add a production for the start symbol S\n",
    "        if i == 0:\n",
    "            productions.append(Production(nltk.Nonterminal('S'), [nltk.Nonterminal(pos_tag)]))\n",
    "        # Add a production for each subsequent token\n",
    "        productions.append(Production(nltk.Nonterminal(pos_tag), [token]))\n",
    "\n",
    "    # Create a CFG from the list of productions\n",
    "    cfg = CFG(nltk.Nonterminal('S'), productions)\n",
    "    return cfg\n",
    "\n",
    "# Example sentences\n",
    "sentences = [\n",
    "    \"The cat sat on the mat.\",\n",
    "    \"Birds sing melodiously in the morning.\",\n",
    "    \"Children play happily in the park.\"\n",
    "]\n",
    "\n",
    "# Generate CFGs for each sentence and print them\n",
    "for sentence in sentences:\n",
    "    cfg = generate_cfg(sentence)\n",
    "    print(\"CFG for sentence:\", sentence)\n",
    "    print(cfg)\n",
    "    print()"
   ]
  }
 ],
 "metadata": {
  "kernelspec": {
   "display_name": "base",
   "language": "python",
   "name": "python3"
  },
  "language_info": {
   "codemirror_mode": {
    "name": "ipython",
    "version": 3
   },
   "file_extension": ".py",
   "mimetype": "text/x-python",
   "name": "python",
   "nbconvert_exporter": "python",
   "pygments_lexer": "ipython3",
   "version": "3.10.12"
  }
 },
 "nbformat": 4,
 "nbformat_minor": 2
}
